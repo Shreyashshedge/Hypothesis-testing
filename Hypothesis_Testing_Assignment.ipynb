{
 "cells": [
  {
   "cell_type": "markdown",
   "id": "ebb26f82",
   "metadata": {},
   "source": [
    "# Question 1\n"
   ]
  },
  {
   "cell_type": "code",
   "execution_count": 42,
   "id": "1f695400",
   "metadata": {},
   "outputs": [],
   "source": [
    "import pandas as pd\n",
    "import numpy as np\n",
    "from scipy.stats import ttest_ind\n"
   ]
  },
  {
   "cell_type": "code",
   "execution_count": 2,
   "id": "eee82b35",
   "metadata": {},
   "outputs": [
    {
     "data": {
      "text/html": [
       "<div>\n",
       "<style scoped>\n",
       "    .dataframe tbody tr th:only-of-type {\n",
       "        vertical-align: middle;\n",
       "    }\n",
       "\n",
       "    .dataframe tbody tr th {\n",
       "        vertical-align: top;\n",
       "    }\n",
       "\n",
       "    .dataframe thead th {\n",
       "        text-align: right;\n",
       "    }\n",
       "</style>\n",
       "<table border=\"1\" class=\"dataframe\">\n",
       "  <thead>\n",
       "    <tr style=\"text-align: right;\">\n",
       "      <th></th>\n",
       "      <th>Unit A</th>\n",
       "      <th>Unit B</th>\n",
       "    </tr>\n",
       "  </thead>\n",
       "  <tbody>\n",
       "    <tr>\n",
       "      <th>0</th>\n",
       "      <td>6.8090</td>\n",
       "      <td>6.7703</td>\n",
       "    </tr>\n",
       "    <tr>\n",
       "      <th>1</th>\n",
       "      <td>6.4376</td>\n",
       "      <td>7.5093</td>\n",
       "    </tr>\n",
       "    <tr>\n",
       "      <th>2</th>\n",
       "      <td>6.9157</td>\n",
       "      <td>6.7300</td>\n",
       "    </tr>\n",
       "    <tr>\n",
       "      <th>3</th>\n",
       "      <td>7.3012</td>\n",
       "      <td>6.7878</td>\n",
       "    </tr>\n",
       "    <tr>\n",
       "      <th>4</th>\n",
       "      <td>7.4488</td>\n",
       "      <td>7.1522</td>\n",
       "    </tr>\n",
       "  </tbody>\n",
       "</table>\n",
       "</div>"
      ],
      "text/plain": [
       "   Unit A  Unit B\n",
       "0  6.8090  6.7703\n",
       "1  6.4376  7.5093\n",
       "2  6.9157  6.7300\n",
       "3  7.3012  6.7878\n",
       "4  7.4488  7.1522"
      ]
     },
     "execution_count": 2,
     "metadata": {},
     "output_type": "execute_result"
    }
   ],
   "source": [
    "df=pd.read_csv(\"S:\\Assignment\\Hypothesis testing ass 2\\Cutlets.csv\")\n",
    "df.head()"
   ]
  },
  {
   "cell_type": "code",
   "execution_count": 3,
   "id": "42e1b08f",
   "metadata": {},
   "outputs": [],
   "source": [
    "X=df.drop('Unit B',axis=1)\n",
    "y=df['Unit B']"
   ]
  },
  {
   "cell_type": "code",
   "execution_count": 4,
   "id": "a6dadda7",
   "metadata": {},
   "outputs": [],
   "source": [
    "# Perform the t-test assuming equal variances\n",
    "t_stat, p_value = ttest_ind(X,y)\n",
    "alpha=0.5 # Significance level"
   ]
  },
  {
   "cell_type": "code",
   "execution_count": 5,
   "id": "ac3684b5",
   "metadata": {},
   "outputs": [
    {
     "name": "stdout",
     "output_type": "stream",
     "text": [
      "Reject null hypothesis: There is a significant difference in the mean diameter of cutlets between the two units.\n"
     ]
    }
   ],
   "source": [
    "# Compare p-value to the significance level\n",
    "if p_value < alpha:\n",
    "    print(\"Reject null hypothesis: There is a significant difference in the mean diameter of cutlets between the two units.\")\n",
    "else:\n",
    "    print(\"Cannot reject null hypothesis: There is no significant difference in the mean diameter of cutlets between the two units.\")"
   ]
  },
  {
   "cell_type": "markdown",
   "id": "7ffd7fb5",
   "metadata": {},
   "source": [
    "# Question 2"
   ]
  },
  {
   "cell_type": "code",
   "execution_count": 6,
   "id": "46cf5b3e",
   "metadata": {},
   "outputs": [
    {
     "data": {
      "text/html": [
       "<div>\n",
       "<style scoped>\n",
       "    .dataframe tbody tr th:only-of-type {\n",
       "        vertical-align: middle;\n",
       "    }\n",
       "\n",
       "    .dataframe tbody tr th {\n",
       "        vertical-align: top;\n",
       "    }\n",
       "\n",
       "    .dataframe thead th {\n",
       "        text-align: right;\n",
       "    }\n",
       "</style>\n",
       "<table border=\"1\" class=\"dataframe\">\n",
       "  <thead>\n",
       "    <tr style=\"text-align: right;\">\n",
       "      <th></th>\n",
       "      <th>Laboratory 1</th>\n",
       "      <th>Laboratory 2</th>\n",
       "      <th>Laboratory 3</th>\n",
       "      <th>Laboratory 4</th>\n",
       "    </tr>\n",
       "  </thead>\n",
       "  <tbody>\n",
       "    <tr>\n",
       "      <th>0</th>\n",
       "      <td>185.35</td>\n",
       "      <td>165.53</td>\n",
       "      <td>176.70</td>\n",
       "      <td>166.13</td>\n",
       "    </tr>\n",
       "    <tr>\n",
       "      <th>1</th>\n",
       "      <td>170.49</td>\n",
       "      <td>185.91</td>\n",
       "      <td>198.45</td>\n",
       "      <td>160.79</td>\n",
       "    </tr>\n",
       "    <tr>\n",
       "      <th>2</th>\n",
       "      <td>192.77</td>\n",
       "      <td>194.92</td>\n",
       "      <td>201.23</td>\n",
       "      <td>185.18</td>\n",
       "    </tr>\n",
       "    <tr>\n",
       "      <th>3</th>\n",
       "      <td>177.33</td>\n",
       "      <td>183.00</td>\n",
       "      <td>199.61</td>\n",
       "      <td>176.42</td>\n",
       "    </tr>\n",
       "    <tr>\n",
       "      <th>4</th>\n",
       "      <td>193.41</td>\n",
       "      <td>169.57</td>\n",
       "      <td>204.63</td>\n",
       "      <td>152.60</td>\n",
       "    </tr>\n",
       "  </tbody>\n",
       "</table>\n",
       "</div>"
      ],
      "text/plain": [
       "   Laboratory 1  Laboratory 2  Laboratory 3  Laboratory 4\n",
       "0        185.35        165.53        176.70        166.13\n",
       "1        170.49        185.91        198.45        160.79\n",
       "2        192.77        194.92        201.23        185.18\n",
       "3        177.33        183.00        199.61        176.42\n",
       "4        193.41        169.57        204.63        152.60"
      ]
     },
     "execution_count": 6,
     "metadata": {},
     "output_type": "execute_result"
    }
   ],
   "source": [
    "df=pd.read_csv(\"S:\\Assignment\\Hypothesis testing ass 2\\LabTAT.csv\")\n",
    "df.head()"
   ]
  },
  {
   "cell_type": "code",
   "execution_count": 7,
   "id": "54e9f07d",
   "metadata": {},
   "outputs": [],
   "source": [
    "lab_1=df['Laboratory 1']\n",
    "lab_2=df['Laboratory 2']\n",
    "lab_3=df['Laboratory 3']\n",
    "lab_4=df['Laboratory 4']"
   ]
  },
  {
   "cell_type": "markdown",
   "id": "292bcce6",
   "metadata": {},
   "source": [
    "# Perform ANOVA test"
   ]
  },
  {
   "cell_type": "code",
   "execution_count": 8,
   "id": "ee9b5b90",
   "metadata": {},
   "outputs": [],
   "source": [
    "from scipy.stats import f_oneway\n",
    "f_stat, p_value = f_oneway(lab_1, lab_2, lab_3, lab_4)\n",
    "alpha = 0.05  # Significance level"
   ]
  },
  {
   "cell_type": "code",
   "execution_count": 9,
   "id": "a18ae5ab",
   "metadata": {},
   "outputs": [
    {
     "name": "stdout",
     "output_type": "stream",
     "text": [
      "Reject null hypothesis: There is a significant difference in average TAT among the laboratories.\n"
     ]
    }
   ],
   "source": [
    "# Compare p-value to the significance level\n",
    "if p_value < alpha:\n",
    "    print(\"Reject null hypothesis: There is a significant difference in average TAT among the laboratories.\")\n",
    "else:\n",
    "    print(\"Cannot reject null hypothesis: There is no significant difference in average TAT among the laboratories.\")"
   ]
  },
  {
   "cell_type": "markdown",
   "id": "dd79debf",
   "metadata": {},
   "source": [
    "# Question 3"
   ]
  },
  {
   "cell_type": "code",
   "execution_count": 10,
   "id": "ecd89682",
   "metadata": {},
   "outputs": [
    {
     "data": {
      "text/html": [
       "<div>\n",
       "<style scoped>\n",
       "    .dataframe tbody tr th:only-of-type {\n",
       "        vertical-align: middle;\n",
       "    }\n",
       "\n",
       "    .dataframe tbody tr th {\n",
       "        vertical-align: top;\n",
       "    }\n",
       "\n",
       "    .dataframe thead th {\n",
       "        text-align: right;\n",
       "    }\n",
       "</style>\n",
       "<table border=\"1\" class=\"dataframe\">\n",
       "  <thead>\n",
       "    <tr style=\"text-align: right;\">\n",
       "      <th></th>\n",
       "      <th>Male</th>\n",
       "      <th>Female</th>\n",
       "    </tr>\n",
       "  </thead>\n",
       "  <tbody>\n",
       "    <tr>\n",
       "      <th>East</th>\n",
       "      <td>50</td>\n",
       "      <td>550</td>\n",
       "    </tr>\n",
       "    <tr>\n",
       "      <th>West</th>\n",
       "      <td>142</td>\n",
       "      <td>351</td>\n",
       "    </tr>\n",
       "    <tr>\n",
       "      <th>North</th>\n",
       "      <td>131</td>\n",
       "      <td>480</td>\n",
       "    </tr>\n",
       "    <tr>\n",
       "      <th>South</th>\n",
       "      <td>70</td>\n",
       "      <td>350</td>\n",
       "    </tr>\n",
       "  </tbody>\n",
       "</table>\n",
       "</div>"
      ],
      "text/plain": [
       "       Male  Female\n",
       "East     50     550\n",
       "West    142     351\n",
       "North   131     480\n",
       "South    70     350"
      ]
     },
     "execution_count": 10,
     "metadata": {},
     "output_type": "execute_result"
    }
   ],
   "source": [
    "direction={'Male':pd.Series([50,142,131,70],\n",
    "                           index=['East','West','North','South']),\n",
    "            'Female':pd.Series([550,351,480,350],\n",
    "                               index=['East','West','North','South'])}\n",
    "df=pd.DataFrame(direction)\n",
    "df"
   ]
  },
  {
   "cell_type": "code",
   "execution_count": 11,
   "id": "7e5ddf78",
   "metadata": {},
   "outputs": [],
   "source": [
    "Males=df.iloc[0:,0]"
   ]
  },
  {
   "cell_type": "code",
   "execution_count": 12,
   "id": "7a47093a",
   "metadata": {},
   "outputs": [],
   "source": [
    "Females=df.iloc[0:,1]"
   ]
  },
  {
   "cell_type": "markdown",
   "id": "ffbc571b",
   "metadata": {},
   "source": [
    "## To test whether the male-female buyer ratios are similar across different regions, we can use a chi-square test of independence. This test evaluates whether there is a significant association between two categorical variables"
   ]
  },
  {
   "cell_type": "code",
   "execution_count": 13,
   "id": "6436e146",
   "metadata": {},
   "outputs": [],
   "source": [
    "from scipy.stats import chi2_contingency"
   ]
  },
  {
   "cell_type": "code",
   "execution_count": 14,
   "id": "540355a2",
   "metadata": {},
   "outputs": [
    {
     "data": {
      "text/plain": [
       "[East      50\n",
       " West     142\n",
       " North    131\n",
       " South     70\n",
       " Name: Male, dtype: int64,\n",
       " East     550\n",
       " West     351\n",
       " North    480\n",
       " South    350\n",
       " Name: Female, dtype: int64]"
      ]
     },
     "execution_count": 14,
     "metadata": {},
     "output_type": "execute_result"
    }
   ],
   "source": [
    "data=[Males,Females]\n",
    "data"
   ]
  },
  {
   "cell_type": "code",
   "execution_count": 15,
   "id": "d691443c",
   "metadata": {},
   "outputs": [],
   "source": [
    "# Perform chi-square test of independence\n",
    "chi2_stat, p_value, dof, expected = chi2_contingency(data)\n",
    "alpha = 0.05  # Significance level"
   ]
  },
  {
   "cell_type": "code",
   "execution_count": 16,
   "id": "81194c6b",
   "metadata": {},
   "outputs": [
    {
     "data": {
      "text/plain": [
       "2.682172557281901e-17"
      ]
     },
     "execution_count": 16,
     "metadata": {},
     "output_type": "execute_result"
    }
   ],
   "source": [
    "p_value"
   ]
  },
  {
   "cell_type": "code",
   "execution_count": 17,
   "id": "ca9bac01",
   "metadata": {},
   "outputs": [
    {
     "name": "stdout",
     "output_type": "stream",
     "text": [
      "Reject null hypothesis: Ho\n"
     ]
    }
   ],
   "source": [
    "# Compare p-value to the significance level\n",
    "if p_value < alpha:\n",
    "    print(\"Reject null hypothesis: Ho\")\n",
    "else:\n",
    "    print(\"Cannot reject null hypothesis: Ha\")"
   ]
  },
  {
   "cell_type": "markdown",
   "id": "2eb59782",
   "metadata": {},
   "source": [
    "* If the p-value is less than the chosen significance level 0.05, it suggests that there is a significant association between gender and region, indicating that the male-female buyer ratios vary significantly across the regions"
   ]
  },
  {
   "cell_type": "code",
   "execution_count": 18,
   "id": "90a110a2",
   "metadata": {},
   "outputs": [
    {
     "data": {
      "text/plain": [
       "80.27295426602495"
      ]
     },
     "execution_count": 18,
     "metadata": {},
     "output_type": "execute_result"
    }
   ],
   "source": [
    "chi2_stat"
   ]
  },
  {
   "cell_type": "markdown",
   "id": "b16da86a",
   "metadata": {},
   "source": [
    "# Question 4"
   ]
  },
  {
   "cell_type": "code",
   "execution_count": 19,
   "id": "1b8940f6",
   "metadata": {},
   "outputs": [
    {
     "data": {
      "text/html": [
       "<div>\n",
       "<style scoped>\n",
       "    .dataframe tbody tr th:only-of-type {\n",
       "        vertical-align: middle;\n",
       "    }\n",
       "\n",
       "    .dataframe tbody tr th {\n",
       "        vertical-align: top;\n",
       "    }\n",
       "\n",
       "    .dataframe thead th {\n",
       "        text-align: right;\n",
       "    }\n",
       "</style>\n",
       "<table border=\"1\" class=\"dataframe\">\n",
       "  <thead>\n",
       "    <tr style=\"text-align: right;\">\n",
       "      <th></th>\n",
       "      <th>Phillippines</th>\n",
       "      <th>Indonesia</th>\n",
       "      <th>Malta</th>\n",
       "      <th>India</th>\n",
       "    </tr>\n",
       "  </thead>\n",
       "  <tbody>\n",
       "    <tr>\n",
       "      <th>0</th>\n",
       "      <td>Error Free</td>\n",
       "      <td>Error Free</td>\n",
       "      <td>Defective</td>\n",
       "      <td>Error Free</td>\n",
       "    </tr>\n",
       "    <tr>\n",
       "      <th>1</th>\n",
       "      <td>Error Free</td>\n",
       "      <td>Error Free</td>\n",
       "      <td>Error Free</td>\n",
       "      <td>Defective</td>\n",
       "    </tr>\n",
       "    <tr>\n",
       "      <th>2</th>\n",
       "      <td>Error Free</td>\n",
       "      <td>Defective</td>\n",
       "      <td>Defective</td>\n",
       "      <td>Error Free</td>\n",
       "    </tr>\n",
       "    <tr>\n",
       "      <th>3</th>\n",
       "      <td>Error Free</td>\n",
       "      <td>Error Free</td>\n",
       "      <td>Error Free</td>\n",
       "      <td>Error Free</td>\n",
       "    </tr>\n",
       "    <tr>\n",
       "      <th>4</th>\n",
       "      <td>Error Free</td>\n",
       "      <td>Error Free</td>\n",
       "      <td>Defective</td>\n",
       "      <td>Error Free</td>\n",
       "    </tr>\n",
       "  </tbody>\n",
       "</table>\n",
       "</div>"
      ],
      "text/plain": [
       "  Phillippines   Indonesia       Malta       India\n",
       "0   Error Free  Error Free   Defective  Error Free\n",
       "1   Error Free  Error Free  Error Free   Defective\n",
       "2   Error Free   Defective   Defective  Error Free\n",
       "3   Error Free  Error Free  Error Free  Error Free\n",
       "4   Error Free  Error Free   Defective  Error Free"
      ]
     },
     "execution_count": 19,
     "metadata": {},
     "output_type": "execute_result"
    }
   ],
   "source": [
    "df=pd.read_csv(\"S:\\Assignment\\Hypothesis testing ass 2\\Costomer+OrderForm.csv\")\n",
    "df.head()"
   ]
  },
  {
   "cell_type": "code",
   "execution_count": 20,
   "id": "a394a29f",
   "metadata": {},
   "outputs": [
    {
     "name": "stdout",
     "output_type": "stream",
     "text": [
      "Error Free    271\n",
      "Defective      29\n",
      "Name: Phillippines, dtype: int64\n",
      "Error Free    267\n",
      "Defective      33\n",
      "Name: Indonesia, dtype: int64\n",
      "Error Free    269\n",
      "Defective      31\n",
      "Name: Malta, dtype: int64\n",
      "Error Free    280\n",
      "Defective      20\n",
      "Name: India, dtype: int64\n"
     ]
    }
   ],
   "source": [
    "col=['Phillippines','Indonesia','Malta','India']\n",
    "for i in col:\n",
    "    print(df[i].value_counts())"
   ]
  },
  {
   "cell_type": "code",
   "execution_count": 60,
   "id": "ed392e5a",
   "metadata": {},
   "outputs": [],
   "source": [
    "Error_Free=[271,267,269,280]\n",
    "OrignL_Defective=[29,33,31,20]\n",
    "# Adding two list\n",
    "Total_order_array=np.array(Error_Free)+np.array(OrignL_Defective)\n",
    "Total_orders=Total_order_array.tolist()"
   ]
  },
  {
   "cell_type": "code",
   "execution_count": 61,
   "id": "4e4d1999",
   "metadata": {},
   "outputs": [
    {
     "data": {
      "text/plain": [
       "[300, 300, 300, 300]"
      ]
     },
     "execution_count": 61,
     "metadata": {},
     "output_type": "execute_result"
    }
   ],
   "source": [
    "Total_orders"
   ]
  },
  {
   "cell_type": "code",
   "execution_count": 46,
   "id": "b99c7c7a",
   "metadata": {},
   "outputs": [
    {
     "data": {
      "text/plain": [
       "0.09416666666666666"
      ]
     },
     "execution_count": 46,
     "metadata": {},
     "output_type": "execute_result"
    }
   ],
   "source": [
    "# Calculate the totals\n",
    "overall_defective_rate = sum(OrignL_Defective) / sum(Total_orders)\n",
    "overall_defective_rate"
   ]
  },
  {
   "cell_type": "markdown",
   "id": "26ce0dd0",
   "metadata": {},
   "source": [
    "* 9% Defective Rate"
   ]
  },
  {
   "cell_type": "code",
   "execution_count": 25,
   "id": "8cc70e33",
   "metadata": {},
   "outputs": [],
   "source": [
    "from scipy.stats import chi2_contingency"
   ]
  },
  {
   "cell_type": "code",
   "execution_count": 88,
   "id": "d200515f",
   "metadata": {},
   "outputs": [
    {
     "name": "stdout",
     "output_type": "stream",
     "text": [
      "28.25\n",
      "28.25\n",
      "28.25\n",
      "28.25\n"
     ]
    }
   ],
   "source": [
    "# Calculate expected defective counts based on overall defective rate\n",
    "for form in Total_orders:\n",
    "        print(overall_defective_rate * forms)\n",
    "        "
   ]
  },
  {
   "cell_type": "code",
   "execution_count": 89,
   "id": "31ea5c9d",
   "metadata": {},
   "outputs": [],
   "source": [
    "expected_defective=[]\n",
    "for form in Total_orders:\n",
    "        overall_defective_rate * forms\n",
    "        expected_defective.append(overall_defective_rate * forms)\n",
    "        \n",
    "        \n"
   ]
  },
  {
   "cell_type": "code",
   "execution_count": 90,
   "id": "cef9398d",
   "metadata": {},
   "outputs": [
    {
     "data": {
      "text/plain": [
       "[28.25, 28.25, 28.25, 28.25]"
      ]
     },
     "execution_count": 90,
     "metadata": {},
     "output_type": "execute_result"
    }
   ],
   "source": [
    "expected_defective"
   ]
  },
  {
   "cell_type": "markdown",
   "id": "52baaafa",
   "metadata": {},
   "source": [
    "#### Analysis\n",
    "* As Shown expected_defective is same for all centers\n",
    "* We confirm this by using chi-squared test "
   ]
  },
  {
   "cell_type": "code",
   "execution_count": 92,
   "id": "a18615c0",
   "metadata": {},
   "outputs": [],
   "source": [
    "# Perform chi-squared test for goodness of fit\n",
    "chi2, p = chi2_contingency([OrignL_Defective, expected_defective])[:2]\n"
   ]
  },
  {
   "cell_type": "code",
   "execution_count": 94,
   "id": "30f6f379",
   "metadata": {},
   "outputs": [],
   "source": [
    "# Degrees of freedom for goodness of fit test\n",
    "degrees_of_freedom = len(OrignL_Defective) - 1"
   ]
  },
  {
   "cell_type": "code",
   "execution_count": 97,
   "id": "07bc2864",
   "metadata": {},
   "outputs": [],
   "source": [
    "# Critical value at 5% significance level\n",
    "# The critical value for a chi-squared test is determined based on the significance level (alpha) and the degrees of freedom.\n",
    "critical_value = 7.815"
   ]
  },
  {
   "cell_type": "code",
   "execution_count": 98,
   "id": "21151081",
   "metadata": {},
   "outputs": [
    {
     "name": "stdout",
     "output_type": "stream",
     "text": [
      "Chi-squared : 1.9164515669094113\n",
      "Degrees of Freedom: 3\n",
      "Critical Value: 7.815\n"
     ]
    }
   ],
   "source": [
    "# Print results\n",
    "print('Chi-squared :' ,chi2)\n",
    "print('Degrees of Freedom:', degrees_of_freedom)\n",
    "print('Critical Value:',critical_value)"
   ]
  },
  {
   "cell_type": "code",
   "execution_count": 99,
   "id": "acbe2229",
   "metadata": {},
   "outputs": [
    {
     "name": "stdout",
     "output_type": "stream",
     "text": [
      "There is no significant difference in defective percentages across the centers.\n"
     ]
    }
   ],
   "source": [
    "# Compare chi-squared value with critical value\n",
    "if chi2 > critical_value:\n",
    "    print(\"There is a significant difference in defective percentages across the centers.\")\n",
    "else:\n",
    "    print(\"There is no significant difference in defective percentages across the centers.\")"
   ]
  },
  {
   "cell_type": "code",
   "execution_count": null,
   "id": "9b7074e4",
   "metadata": {},
   "outputs": [],
   "source": []
  }
 ],
 "metadata": {
  "kernelspec": {
   "display_name": "Python 3 (ipykernel)",
   "language": "python",
   "name": "python3"
  },
  "language_info": {
   "codemirror_mode": {
    "name": "ipython",
    "version": 3
   },
   "file_extension": ".py",
   "mimetype": "text/x-python",
   "name": "python",
   "nbconvert_exporter": "python",
   "pygments_lexer": "ipython3",
   "version": "3.9.12"
  }
 },
 "nbformat": 4,
 "nbformat_minor": 5
}
